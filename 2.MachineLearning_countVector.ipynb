{
  "nbformat": 4,
  "nbformat_minor": 0,
  "metadata": {
    "colab": {
      "name": "TASKPHD1_MachineLearning_countVector.ipynb",
      "provenance": [],
      "collapsed_sections": []
    },
    "kernelspec": {
      "display_name": "Python 3",
      "name": "python3"
    }
  },
  "cells": [
    {
      "cell_type": "code",
      "metadata": {
        "colab": {
          "base_uri": "https://localhost:8080/"
        },
        "id": "lswxUZTfAexy",
        "outputId": "1dcf045c-9aa4-4ea7-d69c-afc78070e46a"
      },
      "source": [
        "cd /content/drive/MyDrive/tophd"
      ],
      "execution_count": null,
      "outputs": [
        {
          "output_type": "stream",
          "text": [
            "/content/drive/MyDrive/tophd\n"
          ],
          "name": "stdout"
        }
      ]
    },
    {
      "cell_type": "code",
      "metadata": {
        "id": "rlgwCtwE_YcG"
      },
      "source": [
        "#!git clone https://gitlab.com/bottle_shop/snowman-applications/snowman-application-tasks-ay21-22.git"
      ],
      "execution_count": null,
      "outputs": []
    },
    {
      "cell_type": "code",
      "metadata": {
        "colab": {
          "base_uri": "https://localhost:8080/"
        },
        "id": "V78z0FX7Amew",
        "outputId": "4e24c015-307b-4c5b-b181-124f0d7d9b70"
      },
      "source": [
        "cd snowman-application-tasks-ay21-22/"
      ],
      "execution_count": null,
      "outputs": [
        {
          "output_type": "stream",
          "text": [
            "/content/drive/MyDrive/tophd/snowman-application-tasks-ay21-22\n"
          ],
          "name": "stdout"
        }
      ]
    },
    {
      "cell_type": "code",
      "metadata": {
        "colab": {
          "base_uri": "https://localhost:8080/"
        },
        "id": "A9Lg0iKmArFq",
        "outputId": "38833101-5c51-4dcc-fae5-d3b17ca70b2d"
      },
      "source": [
        "ls"
      ],
      "execution_count": null,
      "outputs": [
        {
          "output_type": "stream",
          "text": [
            "\u001b[0m\u001b[01;34mdataset\u001b[0m/  README.md\n"
          ],
          "name": "stdout"
        }
      ]
    },
    {
      "cell_type": "code",
      "metadata": {
        "colab": {
          "base_uri": "https://localhost:8080/"
        },
        "id": "cRguHdZSAsWu",
        "outputId": "1a1ff699-34ab-4c99-a476-d54efd9e4c1d"
      },
      "source": [
        "cd dataset/"
      ],
      "execution_count": null,
      "outputs": [
        {
          "output_type": "stream",
          "text": [
            "/content/drive/MyDrive/tophd/snowman-application-tasks-ay21-22/dataset\n"
          ],
          "name": "stdout"
        }
      ]
    },
    {
      "cell_type": "code",
      "metadata": {
        "colab": {
          "base_uri": "https://localhost:8080/"
        },
        "id": "x1AjJgXQAuR6",
        "outputId": "785fc31e-33cb-49e1-a585-61fe1df8f726"
      },
      "source": [
        "ls"
      ],
      "execution_count": null,
      "outputs": [
        {
          "output_type": "stream",
          "text": [
            "glove.840B.300d.txt  test.csv       train2.csv         train.csv\n",
            "test_cleaned.csv     textcnn_model  train_cleaned.csv\n"
          ],
          "name": "stdout"
        }
      ]
    },
    {
      "cell_type": "code",
      "metadata": {
        "id": "GknWyyXy4ZxJ"
      },
      "source": [
        "import os\n",
        "import re\n",
        "from tqdm import tqdm\n",
        "import numpy as np\n",
        "import pandas as pd\n",
        "import matplotlib.pyplot as plt\n",
        "import seaborn as sns\n",
        "%matplotlib inline"
      ],
      "execution_count": null,
      "outputs": []
    },
    {
      "cell_type": "code",
      "metadata": {
        "id": "IJIjseJxAvf4"
      },
      "source": [
        "import pandas as pd\n",
        "df_train = pd.read_csv(\"train.csv\",encoding='cp1252')\n",
        "df_test = pd.read_csv(\"test.csv\",encoding='cp1252')"
      ],
      "execution_count": null,
      "outputs": []
    },
    {
      "cell_type": "code",
      "metadata": {
        "colab": {
          "base_uri": "https://localhost:8080/"
        },
        "id": "555VWAseBijn",
        "outputId": "f0cb6c70-76ba-44d8-85a5-41b601136006"
      },
      "source": [
        "df_train.shape"
      ],
      "execution_count": null,
      "outputs": [
        {
          "output_type": "execute_result",
          "data": {
            "text/plain": [
              "(12829, 3)"
            ]
          },
          "metadata": {
            "tags": []
          },
          "execution_count": 10
        }
      ]
    },
    {
      "cell_type": "code",
      "metadata": {
        "colab": {
          "base_uri": "https://localhost:8080/"
        },
        "id": "w9EXFIYiBkcM",
        "outputId": "c8560f24-3486-43f6-a53c-c8796ba03a06"
      },
      "source": [
        "df_test.shape"
      ],
      "execution_count": null,
      "outputs": [
        {
          "output_type": "execute_result",
          "data": {
            "text/plain": [
              "(3206, 3)"
            ]
          },
          "metadata": {
            "tags": []
          },
          "execution_count": 11
        }
      ]
    },
    {
      "cell_type": "code",
      "metadata": {
        "colab": {
          "base_uri": "https://localhost:8080/",
          "height": 195
        },
        "id": "lVVLb1sJBlh2",
        "outputId": "53eba018-d0ea-4a69-ebfe-86a3212ccb14"
      },
      "source": [
        "df_train.head()"
      ],
      "execution_count": null,
      "outputs": [
        {
          "output_type": "execute_result",
          "data": {
            "text/html": [
              "<div>\n",
              "<style scoped>\n",
              "    .dataframe tbody tr th:only-of-type {\n",
              "        vertical-align: middle;\n",
              "    }\n",
              "\n",
              "    .dataframe tbody tr th {\n",
              "        vertical-align: top;\n",
              "    }\n",
              "\n",
              "    .dataframe thead th {\n",
              "        text-align: right;\n",
              "    }\n",
              "</style>\n",
              "<table border=\"1\" class=\"dataframe\">\n",
              "  <thead>\n",
              "    <tr style=\"text-align: right;\">\n",
              "      <th></th>\n",
              "      <th>id</th>\n",
              "      <th>Tweets</th>\n",
              "      <th>Label</th>\n",
              "    </tr>\n",
              "  </thead>\n",
              "  <tbody>\n",
              "    <tr>\n",
              "      <th>0</th>\n",
              "      <td>7281</td>\n",
              "      <td>The jokes and puns are flying free in this cam...</td>\n",
              "      <td>none</td>\n",
              "    </tr>\n",
              "    <tr>\n",
              "      <th>1</th>\n",
              "      <td>7282</td>\n",
              "      <td>#MKR Lets see who the producers think are goin...</td>\n",
              "      <td>none</td>\n",
              "    </tr>\n",
              "    <tr>\n",
              "      <th>2</th>\n",
              "      <td>7283</td>\n",
              "      <td>Praying Jac and Shaz do well! They're my faves...</td>\n",
              "      <td>none</td>\n",
              "    </tr>\n",
              "    <tr>\n",
              "      <th>3</th>\n",
              "      <td>7284</td>\n",
              "      <td>RT @realityraver: Pete Evans the Paleo Capital...</td>\n",
              "      <td>none</td>\n",
              "    </tr>\n",
              "    <tr>\n",
              "      <th>4</th>\n",
              "      <td>7285</td>\n",
              "      <td>If Kat and Andre stay tonight I will stop watc...</td>\n",
              "      <td>none</td>\n",
              "    </tr>\n",
              "  </tbody>\n",
              "</table>\n",
              "</div>"
            ],
            "text/plain": [
              "     id                                             Tweets Label\n",
              "0  7281  The jokes and puns are flying free in this cam...  none\n",
              "1  7282  #MKR Lets see who the producers think are goin...  none\n",
              "2  7283  Praying Jac and Shaz do well! They're my faves...  none\n",
              "3  7284  RT @realityraver: Pete Evans the Paleo Capital...  none\n",
              "4  7285  If Kat and Andre stay tonight I will stop watc...  none"
            ]
          },
          "metadata": {
            "tags": []
          },
          "execution_count": 12
        }
      ]
    },
    {
      "cell_type": "code",
      "metadata": {
        "colab": {
          "base_uri": "https://localhost:8080/"
        },
        "id": "vI6D79qUBm5b",
        "outputId": "155fb866-7b5c-4756-c9be-6a1f8b54fef2"
      },
      "source": [
        "df_train['Label'].value_counts()"
      ],
      "execution_count": null,
      "outputs": [
        {
          "output_type": "execute_result",
          "data": {
            "text/plain": [
              "none      8747\n",
              "sexism    2534\n",
              "racism    1548\n",
              "Name: Label, dtype: int64"
            ]
          },
          "metadata": {
            "tags": []
          },
          "execution_count": 13
        }
      ]
    },
    {
      "cell_type": "code",
      "metadata": {
        "colab": {
          "base_uri": "https://localhost:8080/",
          "height": 195
        },
        "id": "VT_sKd-HA48F",
        "outputId": "931e9e84-6591-4757-b4d8-03cfd68f185e"
      },
      "source": [
        "df_test.head()"
      ],
      "execution_count": null,
      "outputs": [
        {
          "output_type": "execute_result",
          "data": {
            "text/html": [
              "<div>\n",
              "<style scoped>\n",
              "    .dataframe tbody tr th:only-of-type {\n",
              "        vertical-align: middle;\n",
              "    }\n",
              "\n",
              "    .dataframe tbody tr th {\n",
              "        vertical-align: top;\n",
              "    }\n",
              "\n",
              "    .dataframe thead th {\n",
              "        text-align: right;\n",
              "    }\n",
              "</style>\n",
              "<table border=\"1\" class=\"dataframe\">\n",
              "  <thead>\n",
              "    <tr style=\"text-align: right;\">\n",
              "      <th></th>\n",
              "      <th>id</th>\n",
              "      <th>Tweets</th>\n",
              "      <th>Label</th>\n",
              "    </tr>\n",
              "  </thead>\n",
              "  <tbody>\n",
              "    <tr>\n",
              "      <th>0</th>\n",
              "      <td>5014</td>\n",
              "      <td>#mkr at least there are judging honestly</td>\n",
              "      <td>none</td>\n",
              "    </tr>\n",
              "    <tr>\n",
              "      <th>1</th>\n",
              "      <td>5015</td>\n",
              "      <td>At the end of this Steve is going to run away ...</td>\n",
              "      <td>none</td>\n",
              "    </tr>\n",
              "    <tr>\n",
              "      <th>2</th>\n",
              "      <td>5016</td>\n",
              "      <td>Catching up on #MKR. Did Nikki &amp;amp; Katie get...</td>\n",
              "      <td>none</td>\n",
              "    </tr>\n",
              "    <tr>\n",
              "      <th>3</th>\n",
              "      <td>5017</td>\n",
              "      <td>Has anyone made a Twitter account for Rob's ha...</td>\n",
              "      <td>none</td>\n",
              "    </tr>\n",
              "    <tr>\n",
              "      <th>4</th>\n",
              "      <td>5020</td>\n",
              "      <td>Will someone pls assist Colin in the washing o...</td>\n",
              "      <td>none</td>\n",
              "    </tr>\n",
              "  </tbody>\n",
              "</table>\n",
              "</div>"
            ],
            "text/plain": [
              "     id                                             Tweets Label\n",
              "0  5014           #mkr at least there are judging honestly  none\n",
              "1  5015  At the end of this Steve is going to run away ...  none\n",
              "2  5016  Catching up on #MKR. Did Nikki &amp; Katie get...  none\n",
              "3  5017  Has anyone made a Twitter account for Rob's ha...  none\n",
              "4  5020  Will someone pls assist Colin in the washing o...  none"
            ]
          },
          "metadata": {
            "tags": []
          },
          "execution_count": 14
        }
      ]
    },
    {
      "cell_type": "code",
      "metadata": {
        "colab": {
          "base_uri": "https://localhost:8080/"
        },
        "id": "Z8A581vvAoLi",
        "outputId": "ef222ab3-7ab1-47c2-9b9e-e536797f9e21"
      },
      "source": [
        "df_test['Label'].value_counts()"
      ],
      "execution_count": null,
      "outputs": [
        {
          "output_type": "execute_result",
          "data": {
            "text/plain": [
              "none      2186\n",
              "sexism     633\n",
              "racism     387\n",
              "Name: Label, dtype: int64"
            ]
          },
          "metadata": {
            "tags": []
          },
          "execution_count": 15
        }
      ]
    },
    {
      "cell_type": "code",
      "metadata": {
        "id": "FIqHheKpxsWa"
      },
      "source": [
        "df_train['num_of_word'] = df_train['Tweets'].apply(lambda x : len(x.split()))\n",
        "df_test['num_of_word'] = df_test['Tweets'].apply(lambda x: len(x.split()))"
      ],
      "execution_count": null,
      "outputs": []
    },
    {
      "cell_type": "code",
      "metadata": {
        "id": "bwVVZ3xW0xmw"
      },
      "source": [
        "import seaborn as sns"
      ],
      "execution_count": null,
      "outputs": []
    },
    {
      "cell_type": "code",
      "metadata": {
        "colab": {
          "base_uri": "https://localhost:8080/",
          "height": 365
        },
        "id": "2BWjNHGR00CN",
        "outputId": "48e2e529-8bac-44a7-af10-b5865406e67b"
      },
      "source": [
        "sns.set_theme()\n",
        "sns.displot(data=df_train,x='num_of_word',kde=True);"
      ],
      "execution_count": null,
      "outputs": [
        {
          "output_type": "display_data",
          "data": {
            "image/png": "[encoded data removed]",
            "text/plain": [
              "<Figure size 360x360 with 1 Axes>"
            ]
          },
          "metadata": {
            "tags": []
          }
        }
      ]
    },
    {
      "cell_type": "code",
      "metadata": {
        "colab": {
          "base_uri": "https://localhost:8080/",
          "height": 365
        },
        "id": "TmCBaFsGycaB",
        "outputId": "345afe64-4bce-4abb-efb2-99a17d73d661"
      },
      "source": [
        "sns.displot(data=df_train,x='num_of_word',col='Label',kde=True);"
      ],
      "execution_count": null,
      "outputs": [
        {
          "output_type": "display_data",
          "data": {
            "image/png": "[encoded data removed]",
            "text/plain": [
              "<Figure size 1080x360 with 3 Axes>"
            ]
          },
          "metadata": {
            "tags": []
          }
        }
      ]
    },
    {
      "cell_type": "code",
      "metadata": {
        "colab": {
          "base_uri": "https://localhost:8080/",
          "height": 365
        },
        "id": "N3pG6W5U_Yet",
        "outputId": "b6458665-a268-4c91-e9de-2804ae54b4c3"
      },
      "source": [
        "sns.displot(data=df_test, x='num_of_word', col='Label',kde=True);"
      ],
      "execution_count": null,
      "outputs": [
        {
          "output_type": "display_data",
          "data": {
            "image/png": "[encoded data removed]",
            "text/plain": [
              "<Figure size 1080x360 with 3 Axes>"
            ]
          },
          "metadata": {
            "tags": []
          }
        }
      ]
    },
    {
      "cell_type": "code",
      "metadata": {
        "colab": {
          "base_uri": "https://localhost:8080/",
          "height": 382
        },
        "id": "NUrYCL4H2EXm",
        "outputId": "96963df0-5671-4921-940c-1b7060e9d438"
      },
      "source": [
        "sns.relplot(data=df_train,x=\"num_of_word\", y=\"Label\");"
      ],
      "execution_count": null,
      "outputs": [
        {
          "output_type": "display_data",
          "data": {
            "image/png": "[encoded data removed]",
            "text/plain": [
              "<Figure size 360x360 with 1 Axes>"
            ]
          },
          "metadata": {
            "tags": []
          }
        }
      ]
    },
    {
      "cell_type": "code",
      "metadata": {
        "colab": {
          "base_uri": "https://localhost:8080/"
        },
        "id": "9GFDjPhI2t8-",
        "outputId": "925a3920-02ee-4909-f97a-ef06b85f5071"
      },
      "source": [
        "#preprocessing\n",
        "import nltk\n",
        "nltk.download(\"stopwords\")\n",
        "from nltk.corpus import stopwords"
      ],
      "execution_count": null,
      "outputs": [
        {
          "output_type": "stream",
          "text": [
            "[nltk_data] Downloading package stopwords to /root/nltk_data...\n",
            "[nltk_data]   Unzipping corpora/stopwords.zip.\n"
          ],
          "name": "stdout"
        }
      ]
    },
    {
      "cell_type": "code",
      "metadata": {
        "id": "YBx95jrt4uN9"
      },
      "source": [
        "def text_preprocessing(s):\n",
        "  #lower text\n",
        "  s = s.lower()\n",
        "  # Change 't to 'not'\n",
        "  s = re.sub(r\"\\'t\", \" not\", s)\n",
        "  # Change ':P to ''\n",
        "  s = re.sub(r\"\\ :P\", \"\", s)\n",
        "  # Change '&gt to ''\n",
        "  s = re.sub(r\"\\ &gt\", \"\", s)\n",
        "  #remove link\n",
        "  s = re.sub(r'http\\S+','',s)\n",
        "  # Remove @name\n",
        "  s = re.sub(r'(@.*?)[\\s]', ' ', s)\n",
        "  # Isolate and remove punctuations except '?'\n",
        "  s = re.sub(r'([\\'\\\"\\.\\(\\)\\!\\?\\\\\\/\\,\\^\\*])', r' \\1 ', s)\n",
        "  s = re.sub(r'[^\\w\\s\\?]', ' ', s)\n",
        "  # Remove some special characters\n",
        "  s = re.sub(r'([\\;\\:\\|•«\\n])', ' ', s)\n",
        "  # Remove stopwords except 'not' and 'can'\n",
        "  s = \" \".join([word for word in s.split() if word not in stopwords.words('english') or word in ['not', 'can']])\n",
        "  # Remove trailing whitespace\n",
        "  s = re.sub(r'\\s+', ' ', s).strip()\n",
        "\n",
        "  return s"
      ],
      "execution_count": null,
      "outputs": []
    },
    {
      "cell_type": "code",
      "metadata": {
        "id": "pu50lTISAT8f"
      },
      "source": [
        "train = df_train\n",
        "test = df_test"
      ],
      "execution_count": null,
      "outputs": []
    },
    {
      "cell_type": "code",
      "metadata": {
        "id": "ho_FTwY9Arev"
      },
      "source": [
        "train['Tweets'] = train['Tweets'].apply(text_preprocessing)\n",
        "test['Tweets'] = test['Tweets'].apply(text_preprocessing) "
      ],
      "execution_count": null,
      "outputs": []
    },
    {
      "cell_type": "code",
      "metadata": {
        "colab": {
          "base_uri": "https://localhost:8080/",
          "height": 195
        },
        "id": "xjelZNGXC2SZ",
        "outputId": "0edefc94-8001-4fec-bdc5-cbcc1128cf97"
      },
      "source": [
        "#encode label\n",
        "from sklearn.preprocessing import LabelEncoder\n",
        "le = LabelEncoder()\n",
        "train['Label'] = le.fit_transform(train['Label'])\n",
        "train.head()"
      ],
      "execution_count": null,
      "outputs": [
        {
          "output_type": "execute_result",
          "data": {
            "text/html": [
              "<div>\n",
              "<style scoped>\n",
              "    .dataframe tbody tr th:only-of-type {\n",
              "        vertical-align: middle;\n",
              "    }\n",
              "\n",
              "    .dataframe tbody tr th {\n",
              "        vertical-align: top;\n",
              "    }\n",
              "\n",
              "    .dataframe thead th {\n",
              "        text-align: right;\n",
              "    }\n",
              "</style>\n",
              "<table border=\"1\" class=\"dataframe\">\n",
              "  <thead>\n",
              "    <tr style=\"text-align: right;\">\n",
              "      <th></th>\n",
              "      <th>id</th>\n",
              "      <th>Tweets</th>\n",
              "      <th>Label</th>\n",
              "      <th>num_of_word</th>\n",
              "    </tr>\n",
              "  </thead>\n",
              "  <tbody>\n",
              "    <tr>\n",
              "      <th>0</th>\n",
              "      <td>7281</td>\n",
              "      <td>jokes puns flying free camping episode mkr mkr...</td>\n",
              "      <td>0</td>\n",
              "      <td>13</td>\n",
              "    </tr>\n",
              "    <tr>\n",
              "      <th>1</th>\n",
              "      <td>7282</td>\n",
              "      <td>mkr lets see producers think going better tv k...</td>\n",
              "      <td>0</td>\n",
              "      <td>19</td>\n",
              "    </tr>\n",
              "    <tr>\n",
              "      <th>2</th>\n",
              "      <td>7283</td>\n",
              "      <td>praying jac shaz well faves mkr</td>\n",
              "      <td>0</td>\n",
              "      <td>10</td>\n",
              "    </tr>\n",
              "    <tr>\n",
              "      <th>3</th>\n",
              "      <td>7284</td>\n",
              "      <td>rt pete evans paleo capitalist cookbook pulled...</td>\n",
              "      <td>0</td>\n",
              "      <td>14</td>\n",
              "    </tr>\n",
              "    <tr>\n",
              "      <th>4</th>\n",
              "      <td>7285</td>\n",
              "      <td>kat andre stay tonight stop watching kitchen r...</td>\n",
              "      <td>0</td>\n",
              "      <td>14</td>\n",
              "    </tr>\n",
              "  </tbody>\n",
              "</table>\n",
              "</div>"
            ],
            "text/plain": [
              "     id                                             Tweets  Label  num_of_word\n",
              "0  7281  jokes puns flying free camping episode mkr mkr...      0           13\n",
              "1  7282  mkr lets see producers think going better tv k...      0           19\n",
              "2  7283                    praying jac shaz well faves mkr      0           10\n",
              "3  7284  rt pete evans paleo capitalist cookbook pulled...      0           14\n",
              "4  7285  kat andre stay tonight stop watching kitchen r...      0           14"
            ]
          },
          "metadata": {
            "tags": []
          },
          "execution_count": 23
        }
      ]
    },
    {
      "cell_type": "code",
      "metadata": {
        "colab": {
          "base_uri": "https://localhost:8080/"
        },
        "id": "QYE1CJoqW23Y",
        "outputId": "749be3d2-6c6d-41f1-cc64-ace709a7f482"
      },
      "source": [
        "le.classes_"
      ],
      "execution_count": null,
      "outputs": [
        {
          "output_type": "execute_result",
          "data": {
            "text/plain": [
              "array(['none', 'racism', 'sexism'], dtype=object)"
            ]
          },
          "metadata": {
            "tags": []
          },
          "execution_count": 24
        }
      ]
    },
    {
      "cell_type": "code",
      "metadata": {
        "colab": {
          "base_uri": "https://localhost:8080/",
          "height": 195
        },
        "id": "zm4NSg5pAl68",
        "outputId": "fc38039e-f753-4a62-a566-0844c2006b65"
      },
      "source": [
        "#encode label test set\n",
        "from sklearn.preprocessing import LabelEncoder\n",
        "test['Label'] = le.transform(test['Label'])\n",
        "test.head()"
      ],
      "execution_count": null,
      "outputs": [
        {
          "output_type": "execute_result",
          "data": {
            "text/html": [
              "<div>\n",
              "<style scoped>\n",
              "    .dataframe tbody tr th:only-of-type {\n",
              "        vertical-align: middle;\n",
              "    }\n",
              "\n",
              "    .dataframe tbody tr th {\n",
              "        vertical-align: top;\n",
              "    }\n",
              "\n",
              "    .dataframe thead th {\n",
              "        text-align: right;\n",
              "    }\n",
              "</style>\n",
              "<table border=\"1\" class=\"dataframe\">\n",
              "  <thead>\n",
              "    <tr style=\"text-align: right;\">\n",
              "      <th></th>\n",
              "      <th>id</th>\n",
              "      <th>Tweets</th>\n",
              "      <th>Label</th>\n",
              "      <th>num_of_word</th>\n",
              "    </tr>\n",
              "  </thead>\n",
              "  <tbody>\n",
              "    <tr>\n",
              "      <th>0</th>\n",
              "      <td>5014</td>\n",
              "      <td>mkr least judging honestly</td>\n",
              "      <td>0</td>\n",
              "      <td>7</td>\n",
              "    </tr>\n",
              "    <tr>\n",
              "      <th>1</th>\n",
              "      <td>5015</td>\n",
              "      <td>end steve going run away mexico go witness pro...</td>\n",
              "      <td>0</td>\n",
              "      <td>19</td>\n",
              "    </tr>\n",
              "    <tr>\n",
              "      <th>2</th>\n",
              "      <td>5016</td>\n",
              "      <td>catching mkr nikki amp katie get script say th...</td>\n",
              "      <td>0</td>\n",
              "      <td>28</td>\n",
              "    </tr>\n",
              "    <tr>\n",
              "      <th>3</th>\n",
              "      <td>5017</td>\n",
              "      <td>anyone made twitter account rob hat yet ? mkr</td>\n",
              "      <td>0</td>\n",
              "      <td>11</td>\n",
              "    </tr>\n",
              "    <tr>\n",
              "      <th>4</th>\n",
              "      <td>5020</td>\n",
              "      <td>someone pls assist colin washing hair sorry co...</td>\n",
              "      <td>0</td>\n",
              "      <td>21</td>\n",
              "    </tr>\n",
              "  </tbody>\n",
              "</table>\n",
              "</div>"
            ],
            "text/plain": [
              "     id                                             Tweets  Label  num_of_word\n",
              "0  5014                         mkr least judging honestly      0            7\n",
              "1  5015  end steve going run away mexico go witness pro...      0           19\n",
              "2  5016  catching mkr nikki amp katie get script say th...      0           28\n",
              "3  5017      anyone made twitter account rob hat yet ? mkr      0           11\n",
              "4  5020  someone pls assist colin washing hair sorry co...      0           21"
            ]
          },
          "metadata": {
            "tags": []
          },
          "execution_count": 25
        }
      ]
    },
    {
      "cell_type": "code",
      "metadata": {
        "id": "A63K-KkZ2AbJ"
      },
      "source": [
        "X_tr = train.Tweets.values\n",
        "y_tr = train.Label\n",
        "X_test = test.Tweets.values\n",
        "y_test = test.Label"
      ],
      "execution_count": null,
      "outputs": []
    },
    {
      "cell_type": "code",
      "metadata": {
        "id": "QgJxtT48PIvC"
      },
      "source": [
        "#train test split\n",
        "from sklearn.model_selection import train_test_split\n",
        "X_train , X_val , y_train, y_Val = train_test_split(X_tr, y_tr, test_size = 0.1, random_state = 10)"
      ],
      "execution_count": null,
      "outputs": []
    },
    {
      "cell_type": "code",
      "metadata": {
        "colab": {
          "base_uri": "https://localhost:8080/"
        },
        "id": "wCEIBp0FPXGj",
        "outputId": "98174114-2a52-42ed-8576-f1c367dae56e"
      },
      "source": [
        "print(len(X_train), len(y_train))\n",
        "print(len(X_val), len(y_Val))"
      ],
      "execution_count": null,
      "outputs": [
        {
          "output_type": "stream",
          "text": [
            "11546 11546\n",
            "1283 1283\n"
          ],
          "name": "stdout"
        }
      ]
    },
    {
      "cell_type": "code",
      "metadata": {
        "id": "6pZtmj_HPicW"
      },
      "source": [
        "#vectorize word with TFidf\n",
        "from sklearn.feature_extraction.text import CountVectorizer\n",
        "#calculate TF-IDF\n",
        "X_train = np.array(X_train)\n",
        "X_val = np.array(X_val)\n",
        "cv = CountVectorizer(ngram_range = (1, 3), stop_words='english')\n",
        "X_train_cv = cv.fit_transform(X_train)\n",
        "X_val_cv = cv.transform(X_val)"
      ],
      "execution_count": null,
      "outputs": []
    },
    {
      "cell_type": "code",
      "metadata": {
        "id": "9Jl3e3O19V2h"
      },
      "source": [
        "from sklearn.model_selection import RepeatedStratifiedKFold\n",
        "from sklearn.model_selection import GridSearchCV\n",
        "#tuning hyper parameter using grid search\n",
        "def tuning_param(grid, model):\n",
        "  cv = RepeatedStratifiedKFold(n_splits=5, n_repeats=3, random_state=10)\n",
        "  grid_search = GridSearchCV(estimator=model, param_grid=grid, n_jobs=-1, cv=cv, scoring='f1_macro',error_score=0)\n",
        "  grid_result = grid_search.fit(X_train_cv, y_train)\n",
        "  #best results\n",
        "  print(\"Best: %f using %s\" % (grid_result.best_score_, grid_result.best_params_))"
      ],
      "execution_count": null,
      "outputs": []
    },
    {
      "cell_type": "code",
      "metadata": {
        "colab": {
          "base_uri": "https://localhost:8080/"
        },
        "id": "T73dVsb69V8R",
        "outputId": "1cc55314-b60d-447b-9383-f2c6da21c74c"
      },
      "source": [
        "%%time\n",
        "#Model 1 : MultinomialNB \n",
        "from sklearn.naive_bayes import MultinomialNB\n",
        "alpha = np.arange(1,10,0.1)\n",
        "grid = dict(alpha = alpha)\n",
        "model = MultinomialNB()\n",
        "tuning_param(grid=grid, model = model)"
      ],
      "execution_count": null,
      "outputs": [
        {
          "output_type": "stream",
          "text": [
            "Best: 0.760787 using {'alpha': 1.6000000000000005}\n",
            "CPU times: user 3.09 s, sys: 285 ms, total: 3.37 s\n",
            "Wall time: 27 s\n"
          ],
          "name": "stdout"
        }
      ]
    },
    {
      "cell_type": "code",
      "metadata": {
        "colab": {
          "base_uri": "https://localhost:8080/"
        },
        "id": "tJ6I85hP9V-0",
        "outputId": "5d623f69-f929-4dba-c739-754b22092602"
      },
      "source": [
        "#create model\n",
        "nb_model = MultinomialNB(alpha = 1.6)\n",
        "nb_model.fit(X_train_cv, y_train)"
      ],
      "execution_count": null,
      "outputs": [
        {
          "output_type": "execute_result",
          "data": {
            "text/plain": [
              "MultinomialNB(alpha=1.6, class_prior=None, fit_prior=True)"
            ]
          },
          "metadata": {
            "tags": []
          },
          "execution_count": 34
        }
      ]
    },
    {
      "cell_type": "code",
      "metadata": {
        "colab": {
          "base_uri": "https://localhost:8080/"
        },
        "id": "3PRafFYiAmCd",
        "outputId": "6164b887-936d-415e-ded5-0d364810770b"
      },
      "source": [
        "#score model\n",
        "nb_model.score(X_val_cv, y_Val)"
      ],
      "execution_count": null,
      "outputs": [
        {
          "output_type": "execute_result",
          "data": {
            "text/plain": [
              "0.8074824629773967"
            ]
          },
          "metadata": {
            "tags": []
          },
          "execution_count": 35
        }
      ]
    },
    {
      "cell_type": "code",
      "metadata": {
        "id": "QC7nmve49WB-"
      },
      "source": [
        "#transform X_test \n",
        "X_test_cv = cv.transform(X_test)"
      ],
      "execution_count": null,
      "outputs": []
    },
    {
      "cell_type": "code",
      "metadata": {
        "id": "c-BBVlKxArCd"
      },
      "source": [
        "#predict base on trained model\n",
        "y_test_pred = nb_model.predict(X_test_cv)"
      ],
      "execution_count": null,
      "outputs": []
    },
    {
      "cell_type": "code",
      "metadata": {
        "colab": {
          "base_uri": "https://localhost:8080/"
        },
        "id": "MjSD5VGnAuvg",
        "outputId": "b04ccb2a-7d9c-4157-eef8-e80af3dbf3ea"
      },
      "source": [
        "from sklearn.metrics import classification_report\n",
        "target_names = ['none', 'racism', 'sexism']\n",
        "#print classification report\n",
        "print(classification_report(y_test, y_test_pred, target_names=target_names))"
      ],
      "execution_count": null,
      "outputs": [
        {
          "output_type": "stream",
          "text": [
            "              precision    recall  f1-score   support\n",
            "\n",
            "        none       0.73      0.99      0.84      2186\n",
            "      racism       1.00      0.41      0.59       387\n",
            "      sexism       0.77      0.09      0.16       633\n",
            "\n",
            "    accuracy                           0.74      3206\n",
            "   macro avg       0.83      0.50      0.53      3206\n",
            "weighted avg       0.77      0.74      0.68      3206\n",
            "\n"
          ],
          "name": "stdout"
        }
      ]
    },
    {
      "cell_type": "code",
      "metadata": {
        "id": "ZvTIU4TxsyKD"
      },
      "source": [
        ""
      ],
      "execution_count": null,
      "outputs": []
    },
    {
      "cell_type": "code",
      "metadata": {
        "colab": {
          "background_save": true
        },
        "id": "judIAQcS9WEe",
        "outputId": "c6570270-8952-445c-e677-4c02151b8b3f"
      },
      "source": [
        "%%time\n",
        "#model 2 : LogisticRegression\n",
        "from sklearn.linear_model import LogisticRegression\n",
        "model = LogisticRegression()\n",
        "solver = ['newton-cg', 'lbfgs', 'liblinear']\n",
        "penalty = ['l1','l2']\n",
        "C_value = [100, 10, 1.0, 0.1, 0.01]\n",
        "grid = dict(solver = solver, penalty = penalty, C= C_value)\n",
        "tuning_param(grid = grid, model = model)"
      ],
      "execution_count": null,
      "outputs": [
        {
          "output_type": "stream",
          "text": [
            "Best: 0.760364 using {'C': 10, 'penalty': 'l1', 'solver': 'liblinear'}\n",
            "CPU times: user 2.38 s, sys: 151 ms, total: 2.53 s\n",
            "Wall time: 6min 42s\n"
          ],
          "name": "stdout"
        }
      ]
    },
    {
      "cell_type": "code",
      "metadata": {
        "colab": {
          "background_save": true
        },
        "id": "xrGN6b_Z9WHG",
        "outputId": "d66dd057-9fd2-4e37-f928-bfc5688518bd"
      },
      "source": [
        "#create model 2\n",
        "LG_model = LogisticRegression(C=10, solver='liblinear',penalty='l1')\n",
        "LG_model.fit(X_train_cv,y_train)\n",
        "LG_model.score(X_val_cv,y_Val)"
      ],
      "execution_count": null,
      "outputs": [
        {
          "output_type": "execute_result",
          "data": {
            "text/plain": [
              "0.8269680436477007"
            ]
          },
          "metadata": {
            "tags": []
          },
          "execution_count": 0
        }
      ]
    },
    {
      "cell_type": "code",
      "metadata": {
        "colab": {
          "background_save": true
        },
        "id": "3ygD7qGj9WJy",
        "outputId": "c21573b0-ee9b-4a9c-fe21-03ad8f6cf114"
      },
      "source": [
        "y_pred_LG = LG_model.predict(X_test_cv)\n",
        "print(classification_report(y_test, y_pred_LG, target_names=target_names))"
      ],
      "execution_count": null,
      "outputs": [
        {
          "output_type": "stream",
          "text": [
            "              precision    recall  f1-score   support\n",
            "\n",
            "        none       0.80      0.95      0.86      2186\n",
            "      racism       1.00      0.66      0.80       387\n",
            "      sexism       0.64      0.36      0.46       633\n",
            "\n",
            "    accuracy                           0.79      3206\n",
            "   macro avg       0.81      0.65      0.71      3206\n",
            "weighted avg       0.79      0.79      0.78      3206\n",
            "\n"
          ],
          "name": "stdout"
        }
      ]
    },
    {
      "cell_type": "code",
      "metadata": {
        "id": "x0YfJKBHEBoE"
      },
      "source": [
        "%%time\n",
        "#model 3 : SVM\n",
        "from sklearn.svm import SVC\n",
        "model = SVC()\n",
        "kernel = ['poly', 'rbf','sigmoid']\n",
        "C = [50,10,1.0,0.1,0.01]\n",
        "gamma = ['scale']\n",
        "grid= dict(kernel = kernel, C = C, gamma = gamma)\n",
        "tuning_param(grid = grid , model = model)"
      ],
      "execution_count": null,
      "outputs": []
    },
    {
      "cell_type": "code",
      "metadata": {
        "id": "h0bl-0ZhEBqy"
      },
      "source": [
        "#create model 3\n",
        "SVM_model = SVC(kernel = 'sigmoid', C= 1.0, gamma ='scale')\n",
        "SVM_model.fit(X_train_cv,y_train)\n",
        "SVM_model.score(X_val_cv,y_Val)"
      ],
      "execution_count": null,
      "outputs": []
    },
    {
      "cell_type": "code",
      "metadata": {
        "id": "xRR2uzV7EBvq"
      },
      "source": [
        "from sklearn.metrics import classification_report\n",
        "target_names = ['none', 'racism', 'sexism']\n",
        "y_pred_SVM = SVM_model.predict(X_test_cv)\n",
        "print(classification_report(y_test, y_pred_SVM, target_names=target_names))"
      ],
      "execution_count": null,
      "outputs": []
    },
    {
      "cell_type": "code",
      "metadata": {
        "colab": {
          "background_save": true
        },
        "id": "pOnZkNA2EB1P",
        "outputId": "5fa53825-6fb6-44bd-c3b5-caea39cfdb01"
      },
      "source": [
        "%%time \n",
        "#model 4 : Random Forest\n",
        "from sklearn.ensemble import RandomForestClassifier\n",
        "model = RandomForestClassifier()\n",
        "n_estimators = [10, 50, 100, 200]\n",
        "max_features = ['sqrt', 'log2']\n",
        "grid = dict(n_estimators = n_estimators, max_features = max_features)\n",
        "tuning_param(grid = grid , model = model)"
      ],
      "execution_count": null,
      "outputs": [
        {
          "output_type": "stream",
          "text": [
            "Best: 0.675293 using {'max_features': 'sqrt', 'n_estimators': 200}\n",
            "CPU times: user 1min 50s, sys: 141 ms, total: 1min 50s\n",
            "Wall time: 2h 58min 56s\n"
          ],
          "name": "stdout"
        }
      ]
    },
    {
      "cell_type": "code",
      "metadata": {
        "colab": {
          "background_save": true
        },
        "id": "nBpuHXScEB5J",
        "outputId": "0ba925f3-a247-4610-981d-46bde609ab84"
      },
      "source": [
        "#create model 4\n",
        "RF_model = RandomForestClassifier(n_estimators = 200, max_features = 'sqrt')\n",
        "RF_model.fit(X_train_cv,y_train)\n",
        "RF_model.score(X_val_cv,y_Val)"
      ],
      "execution_count": null,
      "outputs": [
        {
          "output_type": "execute_result",
          "data": {
            "text/plain": [
              "0.7957911145752143"
            ]
          },
          "metadata": {
            "tags": []
          },
          "execution_count": 0
        }
      ]
    },
    {
      "cell_type": "code",
      "metadata": {
        "colab": {
          "background_save": true
        },
        "id": "ROBXMzMIEBzV",
        "outputId": "cc555747-3c1c-4306-856c-4b69e2718751"
      },
      "source": [
        "y_pred_RF = RF_model.predict(X_test_cv)\n",
        "print(classification_report(y_test, y_pred_RF, target_names=target_names))"
      ],
      "execution_count": null,
      "outputs": [
        {
          "output_type": "stream",
          "text": [
            "              precision    recall  f1-score   support\n",
            "\n",
            "        none       0.73      0.99      0.84      2186\n",
            "      racism       1.00      0.33      0.50       387\n",
            "      sexism       0.76      0.12      0.21       633\n",
            "\n",
            "    accuracy                           0.74      3206\n",
            "   macro avg       0.83      0.48      0.52      3206\n",
            "weighted avg       0.77      0.74      0.67      3206\n",
            "\n"
          ],
          "name": "stdout"
        }
      ]
    },
    {
      "cell_type": "code",
      "metadata": {
        "id": "UX6t8MzxKeEf",
        "colab": {
          "base_uri": "https://localhost:8080/"
        },
        "outputId": "d20763ea-e072-4eb3-f8b2-3c75979e6c37"
      },
      "source": [
        "%%time\n",
        "#model 5 : XGBoost\n",
        "\n",
        "from xgboost import XGBClassifier\n",
        "model = XGBClassifier()\n",
        "colsample_bytree = [0.3, 0.7]\n",
        "max_depth = [ 3, 5, 7, 10]\n",
        "n_estimators = [ 50, 100, 200]\n",
        "grid = dict(colsample_bytree = colsample_bytree, max_depth = max_depth, n_estimators = n_estimators)\n",
        "tuning_param(grid = grid, model = model)"
      ],
      "execution_count": null,
      "outputs": [
        {
          "output_type": "stream",
          "text": [
            "Best: 0.763925 using {'colsample_bytree': 0.3, 'max_depth': 10, 'n_estimators': 200}\n",
            "CPU times: user 1min 20s, sys: 456 ms, total: 1min 20s\n",
            "Wall time: 4h 51min 34s\n"
          ],
          "name": "stdout"
        }
      ]
    },
    {
      "cell_type": "code",
      "metadata": {
        "id": "234-eRIcMn6Q",
        "colab": {
          "base_uri": "https://localhost:8080/"
        },
        "outputId": "2748f38b-5439-45a3-dfe6-85951b2efb76"
      },
      "source": [
        "#create model 5\n",
        "XGB_model = XGBClassifier(colsample_bytree= 0.3, max_depth= 10, n_estimators=200 )\n",
        "XGB_model.fit(X_train_cv,y_train)\n",
        "XGB_model.score(X_val_cv,y_Val)"
      ],
      "execution_count": null,
      "outputs": [
        {
          "output_type": "execute_result",
          "data": {
            "text/plain": [
              "0.8199532346063912"
            ]
          },
          "metadata": {
            "tags": []
          },
          "execution_count": 38
        }
      ]
    },
    {
      "cell_type": "code",
      "metadata": {
        "id": "VYX-2HnhMn-k",
        "colab": {
          "base_uri": "https://localhost:8080/"
        },
        "outputId": "7833108d-14fe-4c92-f5da-d86ee5869c2c"
      },
      "source": [
        "from sklearn.metrics import classification_report\n",
        "target_names = ['none', 'racism', 'sexism']\n",
        "#print classification report\n",
        "y_pred_XGB = XGB_model.predict(X_test_cv)\n",
        "print(classification_report(y_test, y_pred_XGB, target_names=target_names))"
      ],
      "execution_count": null,
      "outputs": [
        {
          "output_type": "stream",
          "text": [
            "              precision    recall  f1-score   support\n",
            "\n",
            "        none       0.76      0.98      0.86      2186\n",
            "      racism       1.00      0.65      0.78       387\n",
            "      sexism       0.69      0.16      0.26       633\n",
            "\n",
            "    accuracy                           0.78      3206\n",
            "   macro avg       0.82      0.60      0.63      3206\n",
            "weighted avg       0.78      0.78      0.73      3206\n",
            "\n"
          ],
          "name": "stdout"
        }
      ]
    },
    {
      "cell_type": "code",
      "metadata": {
        "id": "j24M8O6cKeKd"
      },
      "source": [
        ""
      ],
      "execution_count": null,
      "outputs": []
    },
    {
      "cell_type": "code",
      "metadata": {
        "id": "9tKKKH8fKeI7"
      },
      "source": [
        ""
      ],
      "execution_count": null,
      "outputs": []
    },
    {
      "cell_type": "code",
      "metadata": {
        "id": "6D7k-tDoEBua"
      },
      "source": [
        ""
      ],
      "execution_count": null,
      "outputs": []
    }
  ]
}